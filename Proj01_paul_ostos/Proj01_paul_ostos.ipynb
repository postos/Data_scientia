{
 "cells": [
  {
   "attachments": {},
   "cell_type": "markdown",
   "metadata": {},
   "source": [
    "#Proj01\n",
    "\n",
    "Among other things, this project requires that you understand: \n",
    "\n",
    " - Links to internal anchors\n",
    " - Links to external websites\n",
    " - Blockquotes\n",
    " - Headers\n",
    " - Inline code\n",
    " - Italic text\n",
    " - Bold text\n",
    " - Bold and Italic text\n",
    " - Raw html"
   ]
  },
  {
   "attachments": {},
   "cell_type": "markdown",
   "metadata": {},
   "source": [
    "#Table of Contents\n",
    "\n",
    "- [Certification](#Certification) \n",
    "- [This is a header](#This-is-a-header)\n",
    "   - [This is a Header](#This-is-a-header1)\n",
    "   - [This is another header](#This-is-another-header)\n",
    "- [Link to an external website](#Link-to-an-external-website)\n",
    "- [Link to an internal Anchor](#Link-to-an-internal-anchor)\n",
    "- [Escape characters and inline monospace](#escape-monospace)\n",
    "- [Headers](#Headers)\n",
    "- [Bold and Italic text](#bold-italic)\n",
    "   - [Bold text](#bold-text)\n",
    "   - [Italic text](#italic-text)\n",
    "   - [Bold/Italic text](#b-i-text)"
   ]
  },
  {
   "attachments": {},
   "cell_type": "markdown",
   "metadata": {},
   "source": [
    "<a name = 'Certification'></a>"
   ]
  },
  {
   "attachments": {},
   "cell_type": "markdown",
   "metadata": {},
   "source": [
    "#Certification\n",
    "\n",
    "I certify that this project is my own work and is not the work of others. -Paul Ostos "
   ]
  },
  {
   "attachments": {},
   "cell_type": "markdown",
   "metadata": {},
   "source": [
    "<a name = 'This-is-a-header'></a>"
   ]
  },
  {
   "attachments": {},
   "cell_type": "markdown",
   "metadata": {},
   "source": [
    "#This is a header\n",
    "\n",
    "Create a blockquote containing the following text solely for the purpose of inserting space between the headers. \n",
    "\n",
    "> You learned in your study of online Jupyter Notebook tutorials that the notebook has Code cells and Markdown cells. Since you knew how to program in Python before enrolling in this course, entering Python code into Code cells is straightforward. You simply enter the code much as you would when writing Python code into a text editor or an IDE.\n",
    "\n",
    " "
   ]
  },
  {
   "attachments": {},
   "cell_type": "markdown",
   "metadata": {},
   "source": [
    "###This is a header <a name = 'This-is-a-header1'></a>\n",
    "<a name = 'This-is-a-header2'></a>\n",
    "Create a ***blockquote*** containing the following text solely for the purpose of inserting space between the headers. \n",
    "\n",
    "> You learned in your study of online Jupyter Notebook tutorials that the notebook has Code cells and Markdown cells. Since you knew how to program in Python before enrolling in this course, entering Python code into Code cells is straightforward. You simply enter the code much as you would when writing Python code into a text editor or an IDE."
   ]
  },
  {
   "attachments": {},
   "cell_type": "markdown",
   "metadata": {},
   "source": [
    "<a name = 'This-is-another-header'></a>"
   ]
  },
  {
   "attachments": {},
   "cell_type": "markdown",
   "metadata": {},
   "source": [
    "###This is another header\n",
    "\n",
    "Create a blockquote containing the following text solely for the purpose of inserting space between the headers.\n",
    "\n",
    "> You learned in your study of online Jupyter Notebook tutorials that the notebook has Code cells and Markdown cells. Since you knew how to program in Python before enrolling in this course, entering Python code into Code cells is straightforward. You simply enter the code much as you would when writing Python code into a text editor or an IDE."
   ]
  },
  {
   "attachments": {},
   "cell_type": "markdown",
   "metadata": {},
   "source": [
    "<a name = 'Link-to-external-website'></a>"
   ]
  },
  {
   "attachments": {},
   "cell_type": "markdown",
   "metadata": {},
   "source": [
    "#Link to an external website\n",
    "\n",
    "Click [here](https://www.austincc.edu) to jump to the main ACC website."
   ]
  },
  {
   "attachments": {},
   "cell_type": "markdown",
   "metadata": {},
   "source": [
    "<a name = 'Link-to-an-internal-anchor'></a>"
   ]
  },
  {
   "attachments": {},
   "cell_type": "markdown",
   "metadata": {},
   "source": [
    "#Link to an internal anchor \n",
    "\n",
    "Click [here](#This-is-a-header2) to jump to the word **blockquote** following the second instance of the header that reads **This is a header.** "
   ]
  },
  {
   "attachments": {},
   "cell_type": "markdown",
   "metadata": {},
   "source": [
    "<a name = 'escape-monospace'></a>"
   ]
  },
  {
   "attachments": {},
   "cell_type": "markdown",
   "metadata": {},
   "source": [
    "#Escape characters and inline monospace \n",
    "\n",
    "Duplicate the following two lines.\n",
    "\n",
    "I love the asterisk, \\*, character.\n",
    "\n",
    "`I love the asterisk, *, character.`"
   ]
  },
  {
   "attachments": {},
   "cell_type": "markdown",
   "metadata": {},
   "source": [
    "<a name = 'Headers'></a>"
   ]
  },
  {
   "attachments": {},
   "cell_type": "markdown",
   "metadata": {},
   "source": [
    "#Headers\n",
    "\n",
    "As you are aware, headers make heavy use of the # character. "
   ]
  },
  {
   "attachments": {},
   "cell_type": "markdown",
   "metadata": {},
   "source": [
    "<a name = 'bold-italic'></a>"
   ]
  },
  {
   "attachments": {},
   "cell_type": "markdown",
   "metadata": {},
   "source": [
    "#Bold and Italic text\n",
    "<a name = 'bold-text'></a>\n",
    "###**Bold text**\n",
    "\n",
    "Display **bold text** as bold. \n",
    "<a name = 'italic-text'>\n",
    "###**Italic text**\n",
    "\n",
    "Display *Italic text* as Italic.\n",
    "<a name = 'b-i-text'></a>\n",
    "###**Bold/Italic text**\n",
    "\n",
    "Display ***bold and Italic text*** as both bold and Italic. "
   ]
  },
  {
   "attachments": {},
   "cell_type": "markdown",
   "metadata": {},
   "source": [
    "\\# The End \\#\n",
    "\n",
    "Create a blockquote containing the following text solely for adding length to the page. This is necessary to make it possible to confirm that the links in the Table of contents jump to proper headers.\n",
    "\n",
    "> Markdown allows you to create headers of varying sizes much like you would typically see on an HTML web page. In fact, the word Headers that you see above this paragraph is a header. It is easy to create a header. Just type one or more hashtag # characters and a space at the beginning of a line before a word or group of words. Then terminate the header by advancing to a new line. The more hashtag characters you type, the smaller will be the header. A single hashtag produces the largest possible header. Examples of several headers are shown below. Note that once you reach five hashtag characters, the size of the text doesn't seem to change much but the font automatically changes to Italic. Also note that the limit is six levels of headings. Once you reach seven hashtag characters, the text is no longer rendered as a header. Instead, it is rendered as plain text with seven hashtag characters in the Jupyter Notebook display. (When the notebook is downloaded as HTML and opened in Firefox or Chrome, it is rendered as plain text with a single hashtag character showing.) Markdown allows you to create headers of varying sizes much like you would typically see on an HTML web page. In fact, the word Headers that you see above this paragraph is a header. It is easy to create a header. Just type one or more hashtag # characters and a space at the beginning of a line before a word or group of words. Then terminate the header by advancing to a new line. The more hashtag characters you type, the smaller will be the header. A single hashtag produces the largest possible header. Examples of several headers are shown below. Note that once you reach five hashtag characters, the size of the text doesn't seem to change much but the font automatically changes to Italic. Also note that the limit is six levels of headings. Once you reach seven hashtag characters, the text is no longer rendered as a header. Instead, it is rendered as plain text with seven hashtag characters in the Jupyter Notebook display. (When the notebook is downloaded as HTML and opened in Firefox or Chrome, it is rendered as plain text with a single hashtag character showing.)"
   ]
  }
 ],
 "metadata": {
  "kernelspec": {
   "display_name": "base",
   "language": "python",
   "name": "python3"
  },
  "language_info": {
   "name": "python",
   "version": "3.9.12 (main, Apr  5 2022, 01:53:17) \n[Clang 12.0.0 ]"
  },
  "orig_nbformat": 4,
  "vscode": {
   "interpreter": {
    "hash": "ef4134245cee7814f270c51b53c12cd8f66f92b93cc289ca4d8937e7123856fc"
   }
  }
 },
 "nbformat": 4,
 "nbformat_minor": 2
}
